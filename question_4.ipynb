{
 "cells": [
  {
   "metadata": {},
   "cell_type": "markdown",
   "source": "# Model Extensions",
   "id": "4e640032e90a65e5"
  },
  {
   "metadata": {},
   "cell_type": "markdown",
   "source": "## Improvements/Extensions",
   "id": "4d9d24e8b24ea364"
  },
  {
   "metadata": {},
   "cell_type": "markdown",
   "source": "### 1. Time Dynamics",
   "id": "edcb02ee3e8f6737"
  },
  {
   "metadata": {},
   "cell_type": "markdown",
   "source": "#### Extreme Time Dynamics",
   "id": "754293991db07a79"
  },
  {
   "metadata": {},
   "cell_type": "markdown",
   "source": "Given the dataset starts in 2012, and we fit until late 2015, it is highly likely that some teams may be completely different (in terms of manager, players, stadium) over the course of such a large time period.",
   "id": "2773a7e7f5c7f035"
  },
  {
   "metadata": {},
   "cell_type": "markdown",
   "source": [
    "It is likely that in late 2015 match results from 2012 are not as informative as match results from 2015.  We can account for this by weighting the match results by time.  We can assume that the weight of a match result is a function of the time difference between the match and the current time.  We can model this as follows:\n",
    "\\begin{equation}\n",
    "    \\text{weight} = \\exp(-\\lambda \\times \\text{time_diff})\n",
    "\\end{equation}\n",
    "Where $\\lambda$ is a hyperparameter that controls the rate at which the weight of a match result decays over time, and $\\text{time_diff}$ is the time difference between the match and the current time."
   ],
   "id": "19fbba6459b339db"
  },
  {
   "metadata": {},
   "cell_type": "markdown",
   "source": [
    "We can include the above in the model by weighting the likelihood of the observed match results by the time difference between the match and the current time.\n",
    "We may choose a possible small range of values for $\\lambda$ and use cross-validation to determine the best value."
   ],
   "id": "1f50808bc6a5eb5a"
  },
  {
   "metadata": {},
   "cell_type": "markdown",
   "source": "**Can we just pass lambda to scipy.optimize.minimize?**",
   "id": "c1b1936cdc3551ee"
  },
  {
   "metadata": {},
   "cell_type": "markdown",
   "source": "Including lambda as a free parameter in the minimization process may result in failure to converge, or a slow convergence, we can instead use a grid search to find the best value of lambda, across a range of values.",
   "id": "49a9e71e4a3e8391"
  },
  {
   "metadata": {},
   "cell_type": "markdown",
   "source": "#### Team Underlying Skill Level",
   "id": "4400f94719a0e51f"
  },
  {
   "metadata": {},
   "cell_type": "markdown",
   "source": "On a smaller timescale (i.e within season), the underlying skill of teams is likely to dynamically change over time, there are numerous possible reasons for this:",
   "id": "2051fb078dc7351c"
  },
  {
   "metadata": {},
   "cell_type": "markdown",
   "source": "In this section we will solely consider that the underlying skill level of teams can change over time.  We will not consider the other factors that can cause the skill level of teams to change.",
   "id": "97f313b9fca458a1"
  },
  {
   "metadata": {},
   "cell_type": "markdown",
   "source": [
    "We can assume that at time T the skill level of a team is a function of the skill level of the team at time T-1 and some random noise.  We can model this as follows:\n",
    "\\begin{equation}\n",
    "    \\text{skill}_t = \\text{skill}_{t-1} + \\epsilon\n",
    "\\end{equation}\n",
    "\n",
    "Where $\\epsilon \\sim N(0, \\sigma^2)$"
   ],
   "id": "4ad82a0c7a8c2f48"
  },
  {
   "metadata": {},
   "cell_type": "markdown",
   "source": "We may wish to apply above to both the attack and defense ratings of teams. ",
   "id": "c05a64b07715cf82"
  },
  {
   "metadata": {},
   "cell_type": "markdown",
   "source": "##### Extension",
   "id": "53743615973bd562"
  },
  {
   "metadata": {},
   "cell_type": "markdown",
   "source": "We could extend above by adding a parameter that controls the rate at which the skill level of teams changes over time.  We may allow for more drastic changes in skill level at the start of the season (i.e. due to transfers, new manager etc) and less drastic changes in skill level as the season progresses.",
   "id": "9e5b9111f1d0aff1"
  },
  {
   "metadata": {},
   "cell_type": "markdown",
   "source": "### 2. Motivation",
   "id": "36f25cb69ee76945"
  },
  {
   "metadata": {},
   "cell_type": "markdown",
   "source": [
    "Towards the end of the regular season (especially in the MLS) there are likely to be differing motivations for teams. There is no relegation in the MLS so teams that are unlikely/unable to make the playoffs may not be as motivated to win games. Conversely, teams that are on the cusp of making the playoffs may be more motivated to win games.  It is also possible that teams do not view winning the regular league season as a priority (unlike all other leagues in the world) and may be more focused on the playoffs.<br>\n",
    "In practice this will lead to a team's skill level changing over time."
   ],
   "id": "9a5dec062f7dcf00"
  },
  {
   "metadata": {},
   "cell_type": "markdown",
   "source": "We can use current predictions of the probability of winning regular season league, making playoffs, and include this in the model.",
   "id": "9ff6906076470f04"
  },
  {
   "metadata": {},
   "cell_type": "markdown",
   "source": "### 3. Home Advantage",
   "id": "54f3582870e95eda"
  },
  {
   "metadata": {},
   "cell_type": "markdown",
   "source": [
    "We can improve the modelling of home advantage.  We may want to have separate home advantage parameters for each conference, i.e. when the same conference is playing each other, and a value for when teams from different conferences are playing each other.\n",
    "\n",
    "i.e.\n",
    "\\begin{equation}\n",
    "    \\text{home_advantage} = \\begin{cases} \n",
    "        \\text{home_advantage_same_conference} & \\text{if teams in same conference} \\\\\n",
    "        \\text{home_advantage_diff_conference} & \\text{if teams in different conferences}\n",
    "    \\end{cases}\n",
    "\\end{equation}\n",
    "\n",
    "where \n",
    "\\begin{equation}\n",
    "    \\text{home_advantage_same_conference} = \\begin{cases} \n",
    "        \\text{east_home_advantage} & \\text{if both in eastern conference} \\\\\n",
    "        \\text{west_home_advantage} & \\text{if both in western conference}\n",
    "    \\end{cases}\n",
    "\\end{equation}"
   ],
   "id": "2bf305081ad48f54"
  },
  {
   "metadata": {},
   "cell_type": "markdown",
   "source": [
    "We may wish to further expand upon above, there may be differing home advantages observed due to:\n",
    "- Altitude of stadium (Colorado Rapids play at 5000 + feet)\n",
    "- Weather conditions players are used to playing in\n",
    "- Distance of travel (**It is likely that the analysis from question 2 is a proxy for differences in travel distance**)\n",
    "- Time spent in stadium (i.e. familiarity with stadium and pitch dimensions)"
   ],
   "id": "6d1d1e196ffde009"
  },
  {
   "metadata": {},
   "cell_type": "markdown",
   "source": "#### Hierarchical Model",
   "id": "b7cbfcd824bbf0b6"
  },
  {
   "metadata": {},
   "cell_type": "markdown",
   "source": [
    "We could use a simple Hierarchical Model as a starting point for the home advantage model.  We could assume that the home advantage for each team is drawn from a normal distribution with mean $\\mu$ and standard deviation $\\sigma$.\n",
    "\\begin{equation}\n",
    "    \\text{home_advantage}_i \\sim N(\\mu, \\sigma)\n",
    "\\end{equation}\n",
    "Where $\\mu$ and $\\sigma$ are hyperparameters.  We could then model $\\mu$ and $\\sigma$ as follows:\n",
    "\\begin{equation}\n",
    "    \\mu \\sim N(\\mu_0, \\sigma_0)\n",
    "\\end{equation}\n",
    "\\begin{equation}\n",
    "    \\sigma \\sim \\text{HalfCauchy}(\\beta)\n",
    "\\end{equation}"
   ],
   "id": "f4b1c6999f89c0bf"
  },
  {
   "metadata": {},
   "cell_type": "markdown",
   "source": "We could expand upon above by adding levels to the hierarchical model, i.e. we could have a separate $\\mu$ for each conference, and a separate $\\mu$ for each team in the conference.  We could also add additional levels to the model to account for the other factors that may impact home advantage.\n",
   "id": "862a1a2bb66fb903"
  },
  {
   "metadata": {},
   "cell_type": "markdown",
   "source": "### 4. Underlying Model",
   "id": "da88cca65b45e253"
  },
  {
   "metadata": {},
   "cell_type": "markdown",
   "source": [
    "In the basic model we assumed that home and away goals were independent, in practice the two teams goals are inherently correlated and psychological factors can play a role in the outcome of games. <br>\n",
    "Most teams will be employing the \"strategy\" of winning games, however sometimes teams may be more focused on not losing games (due to significant differences in skill, conventional wisdom on the best result for a game etc), this can lead to different correlations between home and away goals depending on the fixture, and also the current score (game-state) of the game. <br>\n",
    "Expanding upon above, once a team goes ahead/behind in a game there will likely be changes (both conscious and subconscious) in the way the team plays.  This can lead to differing correlations between home and away goals depending on the current score of the game. <br>\n",
    "Conscious changes might include:\n",
    "- Substitutions\n",
    "- Formation changes\n",
    "- Tactical changes\n",
    "- Time wasting\n",
    "- Pressing\n",
    "- etc.\n",
    "Subconscious changes might include:\n",
    "- Players taking less risks\n",
    "- Players being more cautious\n",
    "- Players being more aggressive\n",
    "- Players feeling more or less pressure"
   ],
   "id": "364c7cea00b9a85a"
  },
  {
   "metadata": {},
   "cell_type": "markdown",
   "source": "#### Possible Model Improvements",
   "id": "aeb6ee520945df80"
  },
  {
   "metadata": {},
   "cell_type": "markdown",
   "source": "##### Remove Constant Baseline Goal Expectation",
   "id": "e02d6882f1d4606d"
  },
  {
   "metadata": {},
   "cell_type": "markdown",
   "source": "In the previous model we used the $\\gamma$ parameter to model the baseline goal expectation.  In practice, we would not expect the baseline goal expectation to be constant, since different skill levels and tactical approaches will lead to different baseline goal expectations. The model is simplified below:",
   "id": "7dce92ebe2554378"
  },
  {
   "metadata": {},
   "cell_type": "markdown",
   "source": [
    "\\begin{equation}\n",
    "    \\lambda_{i, j} = \\exp(\\text{attack}_i + \\text{defense}_j + \\text{home_advantage})\n",
    "\\end{equation}\n",
    "\n",
    "Where $\\text{attack}_i$ is the attack rating of team i, $\\text{defense}_j$ is the defense rating of team j, and $\\text{home_advantage}$ is the home advantage.\n",
    "\n",
    "We still include sum to zero constraints on the attack and defense ratings.\n",
    "\n",
    "\\begin{equation}\n",
    "    \\sum_{i=1}^{n} \\text{attack}_i = 0\n",
    "\\end{equation}\n",
    "\\begin{equation}\n",
    "    \\sum_{j=1}^{n} \\text{defense}_j = 0\n",
    "\\end{equation}\n"
   ],
   "id": "fe1d1bff1756c83"
  },
  {
   "metadata": {},
   "cell_type": "markdown",
   "source": "We can introduce models that allow for correlation between home and away goals, some possible options here are:",
   "id": "322f8356f544a268"
  },
  {
   "metadata": {},
   "cell_type": "markdown",
   "source": "##### Dixon Coles Model",
   "id": "21f433458490592e"
  },
  {
   "metadata": {},
   "cell_type": "markdown",
   "source": "It is likely the previous model will underestimate low score lines and overestimate high score lines.  This is likely due to some of the previously listed reasons.",
   "id": "a18d1ebf88628241"
  },
  {
   "metadata": {},
   "cell_type": "markdown",
   "source": "The Dixon Coles model introduces a parameter $\\rho$ that \"corrects\" the model for this, acting as a correlation/dependence parameter between home and away goals. ",
   "id": "7521d72d89bd706"
  },
  {
   "metadata": {},
   "cell_type": "markdown",
   "source": "##### Bivariate Poisson",
   "id": "23820b50b0e5805a"
  },
  {
   "metadata": {},
   "cell_type": "markdown",
   "source": [
    "We can use a Bivariate Poisson distribution to model the number of goals scored by each team.  The Bivariate Poisson distribution is a generalization of the Poisson distribution to two dimensions.  The Bivariate Poisson distribution is parameterized by three parameters $\\lambda_1$ $\\lambda_2$ and $\\rho$ where $\\lambda_1$ and $\\lambda_2$ are the means of the two Poisson distributions and $\\rho$ is the correlation between the two Poisson distributions.  The probability mass function of the Bivariate Poisson distribution is given by:\n",
    "\\begin{equation}\n",
    "    P(X = x, Y = y) = \\frac{e^{-(\\lambda_1 + \\lambda_2)}(\\lambda_1^{x} \\lambda_2^{y})}{x!y!} \\sum_{k=0}^{\\min(x, y)} \\frac{x!y!\\rho^k}{k!(x-k)!(y-k)!}\n",
    "\\end{equation}\n",
    "\n",
    "Where $X$ and $Y$ are the number of goals scored by each team, and $x$ and $y$ are the number of goals scored by each team.  The correlation between the two Poisson distributions is given by $\\rho$."
   ],
   "id": "cf3bc15a2c6aa728"
  },
  {
   "metadata": {},
   "cell_type": "markdown",
   "source": [
    "Advantages:\n",
    "- Captures dependency between home and away goals\n",
    "- Can easily be implemented\n",
    "\n",
    "Disadvantages:\n",
    "- Assumes that the number of goals scored by each team is Poisson distributed\n",
    "- Only allows for positive dependency between home and away goals. (CHECK THIS?)"
   ],
   "id": "38df8602c02faf8a"
  },
  {
   "metadata": {},
   "cell_type": "markdown",
   "source": [
    "## Additional Data\n",
    "- Manager information\n",
    "- Lineup information for each game\n",
    "- Stadium location and altitude\n",
    "- Weather conditions for each game\n",
    "- Travel information for each game (i.e. distance travelled, time spent travelling)\n",
    "- Cup/internation fixtures (for fatigue, travelling, rotation etc)\n",
    "- Event Data/Tracking Data (We can improve upon using observed goals to fit ratings models, i.e XG model)\n",
    "    - Even goal information (i.e. penalty/non penalty) could improve the model\n",
    "- Referee information (Penalty tendencies, card tendencies etc)\n",
    "- League rules or rules changes\n",
    "    - (i.e. introduction of VAR for red card, penalty decisions etc)\n",
    "    - (i.e. change in number of substitutes allowed)\n",
    "    - (i.e. drastic changes in stoppage time played)\n",
    "- Market information (betting market information)"
   ],
   "id": "601b369ee618b27d"
  },
  {
   "metadata": {},
   "cell_type": "markdown",
   "source": "## Given Improvement",
   "id": "baf23bfa60e2f408"
  },
  {
   "metadata": {},
   "cell_type": "markdown",
   "source": [
    "We now use the seasonal pattern detected in the total goal scores.  We modify the model to allow for this by extending from one gamma parameter to 12 gamma parameters, one for each month of the year, i.e.,\n",
    "$$ X_k \\sim \\text{Poisson}(\\lambda_k) $$\n",
    "$$ Y_k \\sim \\text{Poisson}(\\mu_k) $$\n",
    "\n",
    "where\n",
    "\n",
    "$$ \\ln \\lambda_k = \\alpha_{i(k)} + \\beta_{j(k)} + \\gamma_m + \\frac{\\eta}{2} $$\n",
    "$$ \\ln \\mu_k = \\alpha_{j(k)} + \\beta_{i(k)} + \\gamma_m +  \\frac{\\eta}{2} $$\n",
    "\n"
   ],
   "id": "6e8824c16f78a1ab"
  },
  {
   "metadata": {},
   "cell_type": "code",
   "outputs": [],
   "execution_count": null,
   "source": [
    "\n",
    "from smartodds.model.extended_model import ExtendedModel\n",
    "from smartodds.model.simple_model import SimpleModel\n",
    "from tabulate import tabulate\n",
    "\n",
    "extended_model = ExtendedModel('merged_data.csv','data_mls_simset_predictions.csv')\n",
    "extended_model.fit()\n",
    "extended_model.add_predictions()\n",
    "extended_eval=extended_model.evaluate()\n",
    "comparison_eval=extended_model.evaluate_comparison_data()"
   ],
   "id": "cd220b14c4125b8a"
  },
  {
   "metadata": {},
   "cell_type": "code",
   "outputs": [],
   "execution_count": null,
   "source": [
    "print(\n",
    "    f\"Minimisation outcome: {extended_model.result.message}, is successful: {extended_model.result.success}, log likelihood: {-extended_model.result.fun}, number of iterations: {extended_model.result.nit}\")"
   ],
   "id": "d83f784f77aa4f2e"
  },
  {
   "metadata": {},
   "cell_type": "markdown",
   "source": "## Model Comparison",
   "id": "affc16acb8a2bec6"
  },
  {
   "metadata": {},
   "cell_type": "code",
   "outputs": [],
   "execution_count": null,
   "source": [
    "simple_model = SimpleModel('merged_data.csv','data_mls_simset_predictions.csv')\n",
    "simple_model.fit()\n",
    "simple_model.add_predictions()\n",
    "simple_eval=simple_model.evaluate()"
   ],
   "id": "f2d024b54eeca241"
  },
  {
   "metadata": {},
   "cell_type": "markdown",
   "source": "### Fit Comparison",
   "id": "e95aaaae208256e9"
  },
  {
   "metadata": {},
   "cell_type": "markdown",
   "source": "We cannot just compare the 2 likelihood values of the models since the models have different numbers of parameters.  We can start with a few approaches below, to assess fit, **BUT** we will prioritize evaluation of the models vs unseen data.\n",
   "id": "c8a1884af18de9a5"
  },
  {
   "metadata": {},
   "cell_type": "markdown",
   "source": "### Evaluation vs Unseen Data",
   "id": "ce093e03bb448e82"
  },
  {
   "metadata": {},
   "cell_type": "markdown",
   "source": [
    "The approach used below is unlikely to mirror a production model, where the model will constantly be fit when new data is received.  We will compare the 2 models by taking the fitted model and using it to predict the outcomes of the test set.  We will then compare the predicted outcomes to the actual outcomes, using a set of evaluation metrics.  We will use the following metrics:\n",
    "- Log Loss: This is a common metric used in classification problems, it is the negative log likelihood of the model.  It is a measure of how well the model predicts the actual outcomes.  The lower the log loss the better the model.\n",
    "- Brier Score: This is a common metric used in classification problems, it is the mean squared difference between the predicted probabilities and the actual outcomes.  The lower the Brier Score the better the model.\n",
    "- Bias: This is the mean difference between the predicted probabilities and the actual outcomes.  The lower the bias the better the model.\n",
    "- RMSE: We use the RMSE to compare to observed event counts.  The lower the RMSE the better the model."
   ],
   "id": "52e1184c81e3a453"
  },
  {
   "metadata": {},
   "cell_type": "markdown",
   "source": "We use probabilistic scores for evaluating the predicted outcomes, and we will use RMSE to evaluate the models against 'expected goals'. If we had probabilistic predictions for goals markets we could use the same metrics as above to evaluate the models against the goals markets.",
   "id": "510de9bffce31a5d"
  },
  {
   "metadata": {},
   "cell_type": "code",
   "outputs": [],
   "execution_count": null,
   "source": [
    "print(f\"Simple Model:\")\n",
    "simple_eval"
   ],
   "id": "6a0e7d05730dd4de"
  },
  {
   "metadata": {},
   "cell_type": "code",
   "outputs": [],
   "execution_count": null,
   "source": [
    "print(f\"Extended Model:\")\n",
    "extended_eval"
   ],
   "id": "a6b1178516456367"
  },
  {
   "metadata": {},
   "cell_type": "code",
   "outputs": [],
   "execution_count": null,
   "source": [
    "print(f\"Comparison Model:\")\n",
    "comparison_eval"
   ],
   "id": "a560e629ede50db2"
  },
  {
   "metadata": {},
   "cell_type": "markdown",
   "source": [
    "#### Caveats\n",
    "We cannot just compare the models values for say mean log loss and say for certain that one model is better than the other. We may choose to use a bootstrap approach to determine if the difference in the evaluation metrics is statistically significant.\n",
    "We may encounter issues where one model performs better for one purpose (i.e. predict match result) and the other model performs better for another purpose (i.e. predict total goals).  We may need to make a decision on which model to use based on the purpose of the model.\n",
    "If the end use of the model is to bet on the outcomes of games, we may wish to evaluate against available implied probabilities, however care needs to be taken since markets are always evolving and market accuracy may be improving over time.\n"
   ],
   "id": "896fa6aaaf4967dc"
  }
 ],
 "metadata": {
  "kernelspec": {
   "display_name": "Python 3",
   "language": "python",
   "name": "python3"
  },
  "language_info": {
   "codemirror_mode": {
    "name": "ipython",
    "version": 2
   },
   "file_extension": ".py",
   "mimetype": "text/x-python",
   "name": "python",
   "nbconvert_exporter": "python",
   "pygments_lexer": "ipython2",
   "version": "2.7.6"
  }
 },
 "nbformat": 4,
 "nbformat_minor": 5
}
