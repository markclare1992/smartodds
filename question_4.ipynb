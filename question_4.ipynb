{
 "cells": [
  {
   "metadata": {},
   "cell_type": "markdown",
   "source": "# Model Extensions",
   "id": "4e640032e90a65e5"
  },
  {
   "metadata": {},
   "cell_type": "markdown",
   "source": "## Improvements/Extensions",
   "id": "4d9d24e8b24ea364"
  },
  {
   "metadata": {},
   "cell_type": "markdown",
   "source": "### 1. Time Dynamics",
   "id": "edcb02ee3e8f6737"
  },
  {
   "metadata": {},
   "cell_type": "markdown",
   "source": "#### Extreme Time Dynamics",
   "id": "754293991db07a79"
  },
  {
   "metadata": {},
   "cell_type": "markdown",
   "source": "Given the dataset starts in 2012, and we fit until late 2015, it is highly likely that some teams may be completely different (in terms of manager, players, stadium) over the course of such a large time period.",
   "id": "2773a7e7f5c7f035"
  },
  {
   "metadata": {},
   "cell_type": "markdown",
   "source": [
    "It is likely that in late 2015 match results from 2012 are not as informative as match results from 2015.  We can account for this by weighting the match results by time.  We can assume that the weight of a match result is a function of the time difference between the match and the current time.  We can model this as follows:\n",
    "\\begin{equation}\n",
    "    \\text{weight} = \\exp(-\\lambda \\times \\text{time_diff})\n",
    "\\end{equation}\n",
    "Where $\\lambda$ is a hyperparameter that controls the rate at which the weight of a match result decays over time, and $\\text{time_diff}$ is the time difference between the match and the current time."
   ],
   "id": "19fbba6459b339db"
  },
  {
   "metadata": {},
   "cell_type": "markdown",
   "source": [
    "We can include the above in the model by weighting the likelihood of the observed match results by the time difference between the match and the current time.\n",
    "We may choose a possible small range of values for $\\lambda$ and use cross-validation to determine the best value."
   ],
   "id": "1f50808bc6a5eb5a"
  },
  {
   "metadata": {},
   "cell_type": "markdown",
   "source": "**Can we just pass lambda to scipy.optimize.minimize?**",
   "id": "c1b1936cdc3551ee"
  },
  {
   "metadata": {},
   "cell_type": "markdown",
   "source": "#### Team Underlying Skill Level",
   "id": "4400f94719a0e51f"
  },
  {
   "metadata": {},
   "cell_type": "markdown",
   "source": "On a smaller timescale (i.e within season), the underlying skill of teams is likely to dynamically change over time, there are numerous possible reasons for this:",
   "id": "2051fb078dc7351c"
  },
  {
   "metadata": {},
   "cell_type": "markdown",
   "source": "In this section we will solely consider that the underlying skill level of teams can change over time.  We will not consider the other factors that can cause the skill level of teams to change.",
   "id": "97f313b9fca458a1"
  },
  {
   "metadata": {},
   "cell_type": "markdown",
   "source": [
    "We can assume that at time T the skill level of a team is a function of the skill level of the team at time T-1 and some random noise.  We can model this as follows:\n",
    "\\begin{equation}\n",
    "    \\text{skill}_t = \\text{skill}_{t-1} + \\epsilon\n",
    "\\end{equation}\n",
    "\n",
    "Where $\\epsilon \\sim N(0, \\sigma^2)$"
   ],
   "id": "4ad82a0c7a8c2f48"
  },
  {
   "metadata": {},
   "cell_type": "markdown",
   "source": "We may wish to apply above to both the attack and defense ratings of teams. ",
   "id": "c05a64b07715cf82"
  },
  {
   "metadata": {},
   "cell_type": "markdown",
   "source": "##### Extension",
   "id": "53743615973bd562"
  },
  {
   "metadata": {},
   "cell_type": "markdown",
   "source": "We could extend above by adding a parameter that controls the rate at which the skill level of teams changes over time.  We may allow for more drastic changes in skill level at the start of the season (i.e. due to transfers, new manager etc) and less drastic changes in skill level as the season progresses.",
   "id": "9e5b9111f1d0aff1"
  },
  {
   "metadata": {},
   "cell_type": "markdown",
   "source": "### 2. Motivation",
   "id": "36f25cb69ee76945"
  },
  {
   "metadata": {},
   "cell_type": "markdown",
   "source": [
    "Towards the end of the regular season (especially in the MLS) there are likely to be differing motivations for teams. There is no relegation in the MLS so teams that are unlikely/unable to make the playoffs may not be as motivated to win games. Conversely, teams that are on the cusp of making the playoffs may be more motivated to win games.  It is also possible that teams do not view winning the regular league season as a priority (unlike all other leagues in the world) and may be more focused on the playoffs.<br>\n",
    "In practice this will lead to a team's skill level changing over time."
   ],
   "id": "9a5dec062f7dcf00"
  },
  {
   "metadata": {},
   "cell_type": "markdown",
   "source": "We can use current predictions of the probability of winning regular season league, making playoffs, and include this in the model.",
   "id": "9ff6906076470f04"
  },
  {
   "metadata": {},
   "cell_type": "markdown",
   "source": "### 3. Home Advantage",
   "id": "54f3582870e95eda"
  },
  {
   "metadata": {},
   "cell_type": "markdown",
   "source": [
    "We can improve the modelling of home advantage.  We may want to have separate home advantage parameters for each conference, i.e. when the same conference is playing each other, and a value for when teams from different conferences are playing each other.\n",
    "\n",
    "i.e.\n",
    "\\begin{equation}\n",
    "    \\text{home_advantage} = \\begin{cases} \n",
    "        \\text{home_advantage_same_conference} & \\text{if teams in same conference} \\\\\n",
    "        \\text{home_advantage_diff_conference} & \\text{if teams in different conferences}\n",
    "    \\end{cases}\n",
    "\\end{equation}\n",
    "\n",
    "where \n",
    "\\begin{equation}\n",
    "    \\text{home_advantage_same_conference} = \\begin{cases} \n",
    "        \\text{east_home_advantage} & \\text{if both in eastern conference} \\\\\n",
    "        \\text{west_home_advantage} & \\text{if both in western conference}\n",
    "    \\end{cases}\n",
    "\\end{equation}"
   ],
   "id": "2bf305081ad48f54"
  },
  {
   "metadata": {},
   "cell_type": "markdown",
   "source": [
    "We may wish to further expand upon above, there may be differing home advantages observed due to:\n",
    "- Altitude of stadium (Colorado Rapids play at 5000 + feet)\n",
    "- Weather conditions players are used to playing in\n",
    "- Distance of travel (**It is likely that the analysis from question 2 is a proxy for differences in travel distance**)\n",
    "- Time spent in stadium (i.e. familiarity with stadium and pitch dimensions)"
   ],
   "id": "6d1d1e196ffde009"
  },
  {
   "metadata": {},
   "cell_type": "markdown",
   "source": "#### Hierarchical Model",
   "id": "b7cbfcd824bbf0b6"
  },
  {
   "metadata": {},
   "cell_type": "markdown",
   "source": [
    "We could use a simple Hierarchical Model as a starting point for the home advantage model.  We could assume that the home advantage for each team is drawn from a normal distribution with mean $\\mu$ and standard deviation $\\sigma$.\n",
    "\\begin{equation}\n",
    "    \\text{home_advantage}_i \\sim N(\\mu, \\sigma)\n",
    "\\end{equation}\n",
    "Where $\\mu$ and $\\sigma$ are hyperparameters.  We could then model $\\mu$ and $\\sigma$ as follows:\n",
    "\\begin{equation}\n",
    "    \\mu \\sim N(\\mu_0, \\sigma_0)\n",
    "\\end{equation}\n",
    "\\begin{equation}\n",
    "    \\sigma \\sim \\text{HalfCauchy}(\\beta)\n",
    "\\end{equation}"
   ],
   "id": "f4b1c6999f89c0bf"
  },
  {
   "metadata": {},
   "cell_type": "markdown",
   "source": "We could expand upon above by adding levels to the hierarchical model, i.e. we could have a separate $\\mu$ for each conference, and a separate $\\mu$ for each team in the conference.  We could also add additional levels to the model to account for the other factors that may impact home advantage.\n",
   "id": "862a1a2bb66fb903"
  },
  {
   "metadata": {},
   "cell_type": "markdown",
   "source": "### 4. Underlying Model",
   "id": "da88cca65b45e253"
  },
  {
   "metadata": {},
   "cell_type": "markdown",
   "source": [
    "In the basic model we assumed that home and away goals were independent, in practice the two teams goals are inherently correlated and psychological factors can play a role in the outcome of games. <br>\n",
    "Most teams will be employing the \"strategy\" of winning games, however sometimes teams may be more focused on not losing games (due to significant differences in skill, conventional wisdom on the best result for a game etc), this can lead to different correlations between home and away goals depending on the fixture, and also the current score (game-state) of the game. <br>\n",
    "Expanding upon above, once a team goes ahead/behind in a game there will likely be changes (both conscious and subconscious) in the way the team plays.  This can lead to differing correlations between home and away goals depending on the current score of the game. <br>\n",
    "Conscious changes might include:\n",
    "- Substitutions\n",
    "- Formation changes\n",
    "- Tactical changes\n",
    "- Time wasting\n",
    "- Pressing\n",
    "- etc.\n",
    "Subconscious changes might include:\n",
    "- Players taking less risks\n",
    "- Players being more cautious\n",
    "- Players being more aggressive\n",
    "- Players feeling more or less pressure"
   ],
   "id": "364c7cea00b9a85a"
  },
  {
   "metadata": {},
   "cell_type": "markdown",
   "source": "#### Possible Model Improvements",
   "id": "2cd794ac68ea15ad"
  },
  {
   "metadata": {},
   "cell_type": "markdown",
   "source": "##### Remove Constant Baseline Goal Expectation",
   "id": "cbae102a8ac3fd1f"
  },
  {
   "metadata": {},
   "cell_type": "markdown",
   "source": "In the previous model we used the $\\gamma parameter to model the baseline goal expectation.  In practice, we would not expect the baseline goal expectation to be constant, since different skill levels and tactical approaches will lead to different baseline goal expectations. The model is simplified below:",
   "id": "e299824204b20a31"
  },
  {
   "metadata": {},
   "cell_type": "markdown",
   "source": [
    "\\begin{equation}\n",
    "    \\lambda_{i, j} = \\exp(\\text{attack}_i + \\text{defense}_j + \\text{home_advantage})\n",
    "\\end{equation}\n",
    "\n",
    "Where $\\text{attack}_i$ is the attack rating of team i, $\\text{defense}_j$ is the defense rating of team j, and $\\text{home_advantage}$ is the home advantage.\n",
    "\n",
    "We still include sum to zero constraints on the attack and defense ratings.\n",
    "\n",
    "\\begin{equation}\n",
    "    \\sum_{i=1}^{n} \\text{attack}_i = 0\n",
    "\\end{equation}\n",
    "\\begin{equation}\n",
    "    \\sum_{j=1}^{n} \\text{defense}_j = 0\n",
    "\\end{equation}\n"
   ],
   "id": "9f4a045a0a7aa13a"
  },
  {
   "metadata": {},
   "cell_type": "markdown",
   "source": "We can introduce models that allow for correlation between home and away goals, some possible options here are:",
   "id": "3d0bba2d11b5369e"
  },
  {
   "metadata": {},
   "cell_type": "markdown",
   "source": "##### Dixon Coles Model",
   "id": "f16b94e287da0b55"
  },
  {
   "metadata": {},
   "cell_type": "markdown",
   "source": "It is likely the previous model will underestimate low score lines and overestimate high score lines.  This is likely due to some of the previously listed reasons.",
   "id": "d7ab7fad02ea4fb6"
  },
  {
   "metadata": {},
   "cell_type": "markdown",
   "source": "The Dixon Coles model introduces a parameter $\\rho$ that \"corrects\" the model for this, acting as a correlation/dependence parameter between home and away goals. ",
   "id": "4340865794b74b38"
  },
  {
   "metadata": {},
   "cell_type": "markdown",
   "source": "##### Bivariate Poisson",
   "id": "18b1c402c4249a4"
  },
  {
   "metadata": {},
   "cell_type": "markdown",
   "source": [
    "We can use a Bivariate Poisson distribution to model the number of goals scored by each team.  The Bivariate Poisson distribution is a generalization of the Poisson distribution to two dimensions.  The Bivariate Poisson distribution is parameterized by three parameters $\\lambda_1$ $\\lambda_2$ and $\\rho$ where $\\lambda_1$ and $\\lambda_2$ are the means of the two Poisson distributions and $\\rho$ is the correlation between the two Poisson distributions.  The probability mass function of the Bivariate Poisson distribution is given by:\n",
    "\\begin{equation}\n",
    "    P(X = x, Y = y) = \\frac{e^{-(\\lambda_1 + \\lambda_2)}(\\lambda_1^{x} \\lambda_2^{y})}{x!y!} \\sum_{k=0}^{\\min(x, y)} \\frac{x!y!\\rho^k}{k!(x-k)!(y-k)!}\n",
    "\\end{equation}\n",
    "\n",
    "Where $X$ and $Y$ are the number of goals scored by each team, and $x$ and $y$ are the number of goals scored by each team.  The correlation between the two Poisson distributions is given by $\\rho$."
   ],
   "id": "1ac8bca531ba8e7b"
  },
  {
   "metadata": {},
   "cell_type": "markdown",
   "source": [
    "Advantages:\n",
    "- Allows for correlation between home and away goals\n",
    "- Can easily be implemented\n",
    "\n",
    "Disadvantages:\n",
    "- Assumes that the number of goals scored by each team is Poisson distributed\n",
    "- Only allows for positive correlation between home and away goals. (CHECK THIS?)"
   ],
   "id": "1f1994e86d9909f"
  },
  {
   "metadata": {},
   "cell_type": "markdown",
   "source": "## Given Improvement",
   "id": "308d3b0a64589f43"
  },
  {
   "metadata": {},
   "cell_type": "markdown",
   "source": [
    "We now use the seasonal pattern detected in the total goal scores.  We modify the model to allow for this by extending from one gamma parameter to 12 gamma parameters, one for each month of the year, i.e.,\n",
    "$$ X_k \\sim \\text{Poisson}(\\lambda_k) $$\n",
    "$$ Y_k \\sim \\text{Poisson}(\\mu_k) $$\n",
    "\n",
    "where\n",
    "\n",
    "$$ \\ln \\lambda_k = \\alpha_{i(k)} + \\beta_{j(k)} + \\gamma_m + \\frac{\\eta}{2} $$\n",
    "$$ \\ln \\mu_k = \\alpha_{j(k)} + \\beta_{i(k)} + \\gamma_m +  \\frac{\\eta}{2} $$\n",
    "\n"
   ],
   "id": "312121142fb8042e"
  },
  {
   "metadata": {
    "ExecuteTime": {
     "end_time": "2024-07-04T21:09:41.204872Z",
     "start_time": "2024-07-04T21:09:40.849715Z"
    }
   },
   "cell_type": "code",
   "source": [
    "import numpy as np\n",
    "import pandas as pd\n",
    "from scipy.optimize import minimize\n",
    "from scipy.stats import poisson\n",
    "df = pd.read_csv('merged_data.csv')\n",
    "#filter for Dataset = 'fitset'\n",
    "df = df[df['Dataset'] == 'fitset']\n",
    "unique_teams = sorted(pd.concat([df['Home'], df['Away']]).unique())\n",
    "n_teams = len(unique_teams)\n",
    "team_to_idx = {team: idx for idx, team in enumerate(unique_teams)}\n",
    "\n",
    "# Add indices to dataframe\n",
    "df['home_idx'] = df['Home'].apply(lambda x: team_to_idx[x])\n",
    "df['away_idx'] = df['Away'].apply(lambda x: team_to_idx[x])\n",
    "\n",
    "def log_likelihood(params, df, n_teams):\n",
    "    attack_rates = params[:n_teams]\n",
    "    defense_rates = params[n_teams:2*n_teams]\n",
    "    eta = params[2*n_teams]\n",
    "    monthly_gamma = params[2*n_teams+1:]\n",
    "    \n",
    "    #sum to zero\n",
    "    attack_rates = attack_rates - np.mean(attack_rates)\n",
    "    defense_rates = defense_rates - np.mean(defense_rates)\n",
    "    monthly_gamma = monthly_gamma - np.mean(monthly_gamma)\n",
    "    \n",
    "    log_like = 0\n",
    "    n_matches = df.shape[0]\n",
    "    for i in range(n_matches):\n",
    "        home_idx = df.iloc[i]['home_idx']\n",
    "        away_idx = df.iloc[i]['away_idx']\n",
    "        home_goals = df.iloc[i]['HG']\n",
    "        away_goals = df.iloc[i]['AG']\n",
    "        month = df.iloc[i]['month'] - 1 #0-index months\n",
    "        home_attack = attack_rates[home_idx]\n",
    "        home_defense = defense_rates[home_idx]\n",
    "        away_attack = attack_rates[away_idx]\n",
    "        away_defense = defense_rates[away_idx]\n",
    "        home_lambda = np.exp(home_attack + away_defense + monthly_gamma[month] + eta/2)\n",
    "        away_lambda = np.exp(away_attack + home_defense + monthly_gamma[month] - eta/2)\n",
    "        log_like += np.log(poisson.pmf(home_goals, home_lambda)) + np.log(poisson.pmf(away_goals, away_lambda))\n",
    "        \n",
    "    return -log_like"
   ],
   "id": "93588a02c7b1c995",
   "outputs": [
    {
     "name": "stdout",
     "output_type": "stream",
     "text": [
      "Removed 0 matches from the test set.\n"
     ]
    }
   ],
   "execution_count": 3
  },
  {
   "metadata": {
    "ExecuteTime": {
     "end_time": "2024-07-04T21:09:41.548968Z",
     "start_time": "2024-07-04T21:09:41.546494Z"
    }
   },
   "cell_type": "code",
   "source": "df['Date'] = pd.to_datetime(df['Date'])",
   "id": "c16309487c553d4d",
   "outputs": [
    {
     "name": "stdout",
     "output_type": "stream",
     "text": [
      "Minimisation outcome: CONVERGENCE: REL_REDUCTION_OF_F_<=_FACTR*EPSMCH, is successful: True, log likelihood: -3923.0644668025875, number of iterations: 26\n"
     ]
    }
   ],
   "execution_count": 4
  },
  {
   "metadata": {
    "ExecuteTime": {
     "end_time": "2024-07-04T21:08:40.599996Z",
     "start_time": "2024-07-04T21:08:40.596208Z"
    }
   },
   "cell_type": "code",
   "source": "df[\"month\"] = df[\"Date\"].dt.month",
   "id": "b14cf5d4a03a7851",
   "outputs": [
    {
     "name": "stdout",
     "output_type": "stream",
     "text": [
      "Minimisation outcome: CONVERGENCE: REL_REDUCTION_OF_F_<=_FACTR*EPSMCH, is successful: True, log likelihood: -3923.0644668025875, number of iterations: 26\n"
     ]
    }
   ],
   "execution_count": 2
  },
  {
   "metadata": {
    "ExecuteTime": {
     "end_time": "2024-07-04T21:09:42.475271Z",
     "start_time": "2024-07-04T21:09:42.245159Z"
    }
   },
   "cell_type": "code",
   "source": "df.dtypes",
   "id": "84804a2fed86f421",
   "outputs": [
    {
     "name": "stdout",
     "output_type": "stream",
     "text": [
      "Removed 0 matches from the test set.\n"
     ]
    }
   ],
   "execution_count": 5
  },
  {
   "metadata": {
    "ExecuteTime": {
     "end_time": "2024-07-03T20:10:33.464293Z",
     "start_time": "2024-07-03T19:25:21.964188Z"
    }
   },
   "cell_type": "code",
   "source": [
    "# Calculate observed average goals\n",
    "observed_avg_goals = df[['HG', 'AG']].mean().mean()\n",
    "initial_gamma = np.log(observed_avg_goals)\n",
    "\n",
    "# Calculate initial attack and defense rates\n",
    "attack_initial = np.log(df.groupby('Home')['HG'].mean().reindex(unique_teams).fillna(0).values + 1e-6)\n",
    "defense_initial = np.log(df.groupby('Away')['AG'].mean().reindex(unique_teams).fillna(0).values + 1e-6)\n",
    "\n",
    "#calculate initial eta\n",
    "observed_avg_home_advantage = df['HG'].mean() - df['AG'].mean()\n",
    "initial_eta = np.log(observed_avg_home_advantage)\n",
    "\n",
    "#calculate initial monthly gamma\n",
    "monthly_gamma = np.zeros(12)\n",
    "    \n",
    "initial_params = np.concatenate([attack_initial, defense_initial, [initial_eta], monthly_gamma])\n",
    "result = minimize(log_likelihood, initial_params, args=(df, n_teams))"
   ],
   "id": "36548893a860ec2",
   "outputs": [],
   "execution_count": 19
  },
  {
   "metadata": {
    "ExecuteTime": {
     "end_time": "2024-07-04T21:16:12.714260Z",
     "start_time": "2024-07-04T21:16:12.494296Z"
    }
   },
   "cell_type": "code",
   "source": "print(f\"Minimisation outcome: {result.message}, is successful: {result.success}, log likelihood: {-result.fun}, number of iterations: {result.nit}\")",
   "id": "de82f1023acb3dbd",
   "outputs": [
    {
     "name": "stdout",
     "output_type": "stream",
     "text": [
      "Removed 0 matches from the test set.\n"
     ]
    }
   ],
   "execution_count": 12
  },
  {
   "metadata": {},
   "cell_type": "markdown",
   "source": "## Model Comparison",
   "id": "8ac95e28ca91b3b6"
  },
  {
   "metadata": {},
   "cell_type": "markdown",
   "source": "### Fit Comparison",
   "id": "ff98ebf87676b2fb"
  },
  {
   "metadata": {
    "ExecuteTime": {
     "end_time": "2024-07-04T21:10:26.910642Z",
     "start_time": "2024-07-04T21:10:26.698904Z"
    }
   },
   "cell_type": "markdown",
   "source": "We cannot just compare the 2 likelihood values of the models since the models have different numbers of parameters.  We can start with a few approaches below, to assess fit, **BUT** we will prioritize evaluation of the models vs unseen data.\n",
   "id": "2525295d2ed833e8"
  },
  {
   "metadata": {
    "ExecuteTime": {
     "end_time": "2024-07-04T21:10:26.959586Z",
     "start_time": "2024-07-04T21:10:26.918025Z"
    }
   },
   "cell_type": "markdown",
   "source": "### Evaluation vs Unseen Data",
   "id": "fd1783da5ce09364"
  },
  {
   "metadata": {
    "ExecuteTime": {
     "end_time": "2024-07-04T21:10:31.222287Z",
     "start_time": "2024-07-04T21:10:31.217864Z"
    }
   },
   "cell_type": "markdown",
   "source": [
    "The approach used below is unlikely to mirror a production model, where the model will constantly be fit when new data is received.  We will compare the 2 models by taking the fitted model and using it to predict the outcomes of the test set.  We will then compare the predicted outcomes to the actual outcomes, using a set of evaluation metrics.  We will use the following metrics:\n",
    "- Log Loss: This is a common metric used in classification problems, it is the negative log likelihood of the model.  It is a measure of how well the model predicts the actual outcomes.  The lower the log loss the better the model.\n",
    "- Brier Score: This is a common metric used in classification problems, it is the mean squared difference between the predicted probabilities and the actual outcomes.  The lower the Brier Score the better the model.\n",
    "- Bias: This is the mean difference between the predicted probabilities and the actual outcomes.  The lower the bias the better the model."
   ],
   "id": "5dca219e6be5c39e"
  }
 ],
 "metadata": {
  "kernelspec": {
   "display_name": "Python 3",
   "language": "python",
   "name": "python3"
  },
  "language_info": {
   "codemirror_mode": {
    "name": "ipython",
    "version": 2
   },
   "file_extension": ".py",
   "mimetype": "text/x-python",
   "name": "python",
   "nbconvert_exporter": "python",
   "pygments_lexer": "ipython2",
   "version": "2.7.6"
  }
 },
 "nbformat": 4,
 "nbformat_minor": 5
}
