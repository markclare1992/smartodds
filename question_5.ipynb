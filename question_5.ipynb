{
 "cells": [
  {
   "metadata": {},
   "cell_type": "markdown",
   "source": "# Forecasting",
   "id": "2d64d222644328d8"
  },
  {
   "metadata": {},
   "cell_type": "markdown",
   "source": "Uses model with seasonal goals and adds scoring rates, uses a poisson model to calculate scorelines, assigns win, draw, loss probabilities based on scorelines and calculates expected points.",
   "id": "7e95a548a396ead"
  },
  {
   "metadata": {
    "ExecuteTime": {
     "end_time": "2024-07-04T21:42:04.549637Z",
     "start_time": "2024-07-04T21:42:03.218557Z"
    }
   },
   "cell_type": "code",
   "source": [
    "from smartodds.model.extended_model import ExtendedModel\n",
    "from tabulate import tabulate\n",
    "\n",
    "extended_model = ExtendedModel('merged_data.csv','data_mls_simset_predictions.csv')\n",
    "extended_model.fit()\n",
    "extended_model.add_predictions()\n",
    "extended_eval=extended_model.evaluate()\n",
    "comparison_eval=extended_model.evaluate_comparison_data()\n",
    "extended_model.add_expected_points()\n",
    "expected_points_table = extended_model.create_expected_points_table()"
   ],
   "id": "604c55db355ab771",
   "outputs": [
    {
     "name": "stdout",
     "output_type": "stream",
     "text": [
      "Removed 0 matches from the test set.\n"
     ]
    }
   ],
   "execution_count": 1
  },
  {
   "metadata": {},
   "cell_type": "markdown",
   "source": "Below we see an example of some fixtures with the added data.",
   "id": "d9cd0a53f707ef2a"
  },
  {
   "metadata": {
    "ExecuteTime": {
     "end_time": "2024-07-04T21:42:47.385929Z",
     "start_time": "2024-07-04T21:42:47.351726Z"
    }
   },
   "cell_type": "code",
   "source": "print(extended_model.test.head())",
   "id": "e5d5d93d4952f2ac",
   "outputs": [
    {
     "name": "stdout",
     "output_type": "stream",
     "text": [
      "     Country League  Season       Date   Time                Home  \\\n",
      "1370     USA    MLS    2015 2015-12-06  21:00       Columbus Crew   \n",
      "1371     USA    MLS    2016 2016-03-06  18:30  New York Red Bulls   \n",
      "1372     USA    MLS    2016 2016-03-06  19:00        Chicago Fire   \n",
      "1373     USA    MLS    2016 2016-03-06  19:00        Orlando City   \n",
      "1374     USA    MLS    2016 2016-03-06  20:00           FC Dallas   \n",
      "\n",
      "                    Away  HG  AG Res  ...  home_idx  away_idx  \\\n",
      "1370    Portland Timbers   1   2   A  ...         4        14   \n",
      "1371          Toronto FC   0   2   A  ...        11        19   \n",
      "1372       New York City   3   4   A  ...         1        10   \n",
      "1373      Real Salt Lake   2   2   D  ...        12        15   \n",
      "1374  Philadelphia Union   2   0   H  ...         6        13   \n",
      "\n",
      "      team_1_expected_goals  team_2_expected_goals  total_expected_goals  \\\n",
      "1370               1.600409               1.187481              2.787890   \n",
      "1371               2.008265               0.838138              2.846403   \n",
      "1372               1.622913               1.060917              2.683830   \n",
      "1373               1.157005               1.193780              2.350785   \n",
      "1374               1.606359               0.862822              2.469180   \n",
      "\n",
      "      home_win      draw  away_win  home_expected_points away_expected_points  \n",
      "1370  0.469498  0.247344  0.283158              1.655837             1.096819  \n",
      "1371  0.646682  0.205444  0.147874              2.145490             0.649067  \n",
      "1372  0.504489  0.247322  0.248189              1.760788             0.991890  \n",
      "1373  0.351013  0.279977  0.369011              1.333015             1.387009  \n",
      "1374  0.549159  0.249475  0.201366              1.896951             0.853574  \n",
      "\n",
      "[5 rows x 37 columns]\n"
     ]
    }
   ],
   "execution_count": 3
  },
  {
   "metadata": {},
   "cell_type": "markdown",
   "source": "Below we see the expected points league table.",
   "id": "8184cba324c2ae57"
  },
  {
   "metadata": {
    "ExecuteTime": {
     "end_time": "2024-07-04T21:42:04.554169Z",
     "start_time": "2024-07-04T21:42:04.550897Z"
    }
   },
   "cell_type": "code",
   "source": "print(tabulate(expected_points_table, headers='keys', tablefmt='psql'))",
   "id": "843f8cf619a82289",
   "outputs": [
    {
     "name": "stdout",
     "output_type": "stream",
     "text": [
      "+----+------------------------+---------+\n",
      "|    | Home                   |       0 |\n",
      "|----+------------------------+---------|\n",
      "|  0 | Los Angeles Galaxy     | 57.4832 |\n",
      "|  1 | New York Red Bulls     | 55.4668 |\n",
      "|  2 | Seattle Sounders       | 52.1098 |\n",
      "|  3 | Sporting Kansas City   | 51.2198 |\n",
      "|  4 | Real Salt Lake         | 51.1471 |\n",
      "|  5 | Columbus Crew          | 50.559  |\n",
      "|  6 | New England Revolution | 50.2846 |\n",
      "|  7 | Portland Timbers       | 49.3579 |\n",
      "|  8 | FC Dallas              | 48.001  |\n",
      "|  9 | Vancouver Whitecaps    | 47.4859 |\n",
      "| 10 | San Jose Earthquakes   | 47.3388 |\n",
      "| 11 | DC United              | 44.7795 |\n",
      "| 12 | CF Montreal            | 43.8254 |\n",
      "| 13 | Philadelphia Union     | 43.3394 |\n",
      "| 14 | Chicago Fire           | 43.1571 |\n",
      "| 15 | Houston Dynamo         | 42.7173 |\n",
      "| 16 | New York City          | 41.54   |\n",
      "| 17 | Colorado Rapids        | 40.9    |\n",
      "| 18 | Orlando City           | 40.684  |\n",
      "| 19 | Toronto FC             | 38.7413 |\n",
      "+----+------------------------+---------+\n"
     ]
    }
   ],
   "execution_count": 2
  },
  {
   "metadata": {},
   "cell_type": "markdown",
   "source": "# 5.4 covered in previous notebook question_4.ipynb",
   "id": "441d2940503259e9"
  },
  {
   "metadata": {},
   "cell_type": "code",
   "outputs": [],
   "execution_count": null,
   "source": "",
   "id": "a2fd599e5fa930"
  }
 ],
 "metadata": {
  "kernelspec": {
   "display_name": "Python 3",
   "language": "python",
   "name": "python3"
  },
  "language_info": {
   "codemirror_mode": {
    "name": "ipython",
    "version": 2
   },
   "file_extension": ".py",
   "mimetype": "text/x-python",
   "name": "python",
   "nbconvert_exporter": "python",
   "pygments_lexer": "ipython2",
   "version": "2.7.6"
  }
 },
 "nbformat": 4,
 "nbformat_minor": 5
}
