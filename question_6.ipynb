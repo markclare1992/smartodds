{
 "cells": [
  {
   "metadata": {},
   "cell_type": "markdown",
   "source": "# Simulation",
   "id": "71e77f6eaf63e255"
  },
  {
   "metadata": {
    "ExecuteTime": {
     "end_time": "2024-07-04T21:51:46.734663Z",
     "start_time": "2024-07-04T21:51:37.813263Z"
    }
   },
   "cell_type": "code",
   "source": [
    "\n",
    "from smartodds.model.extended_model import ExtendedModel\n",
    "from smartodds.model.simple_model import SimpleModel\n",
    "from tabulate import tabulate\n",
    "\n",
    "extended_model = ExtendedModel('merged_data.csv','data_mls_simset_predictions.csv')\n",
    "extended_model.fit()\n",
    "extended_model.add_predictions()\n",
    "extended_eval=extended_model.evaluate()\n",
    "comparison_eval=extended_model.evaluate_comparison_data()\n",
    "final_positions = extended_model.run_simulations(10**4)"
   ],
   "id": "286c8b884f76097a",
   "outputs": [
    {
     "name": "stdout",
     "output_type": "stream",
     "text": [
      "Removed 0 matches from the test set.\n"
     ]
    }
   ],
   "execution_count": 1
  },
  {
   "metadata": {
    "ExecuteTime": {
     "end_time": "2024-07-04T21:51:46.737796Z",
     "start_time": "2024-07-04T21:51:46.735716Z"
    }
   },
   "cell_type": "code",
   "source": [
    "team_name = 'Los Angeles Galaxy'\n",
    "position_range = (1,2)\n",
    "eastern_prob, western_prob = extended_model.get_team__name_position_probability(team_name, position_range)"
   ],
   "id": "bf5b4f2674baa726",
   "outputs": [],
   "execution_count": 2
  },
  {
   "metadata": {
    "ExecuteTime": {
     "end_time": "2024-07-04T21:51:46.742306Z",
     "start_time": "2024-07-04T21:51:46.738733Z"
    }
   },
   "cell_type": "code",
   "source": [
    "print(f\"Probability of {team_name} finishing in the top {position_range[1]} in the Western Conference: {western_prob}\")\n",
    "print(f\"Probability of {team_name} finishing in the top {position_range[1]} in the Eastern Conference: {eastern_prob}\")"
   ],
   "id": "e4ba9da44b985315",
   "outputs": [
    {
     "name": "stdout",
     "output_type": "stream",
     "text": [
      "Probability of Los Angeles Galaxy finishing in the top 2 in the Western Conference: 0.5646\n",
      "Probability of Los Angeles Galaxy finishing in the top 2 in the Eastern Conference: 0.0\n"
     ]
    }
   ],
   "execution_count": 3
  }
 ],
 "metadata": {
  "kernelspec": {
   "display_name": "Python 3",
   "language": "python",
   "name": "python3"
  },
  "language_info": {
   "codemirror_mode": {
    "name": "ipython",
    "version": 2
   },
   "file_extension": ".py",
   "mimetype": "text/x-python",
   "name": "python",
   "nbconvert_exporter": "python",
   "pygments_lexer": "ipython2",
   "version": "2.7.6"
  }
 },
 "nbformat": 4,
 "nbformat_minor": 5
}
